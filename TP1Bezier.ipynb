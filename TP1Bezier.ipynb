{
 "cells": [
  {
   "cell_type": "markdown",
   "metadata": {},
   "source": [
    "En cas de problème particulier (lors de l'execution d'une cellule), on pourra relancer le noyau jupyter.\n",
    "\n",
    "Vos réponses (codes ou réponses) doivent être placées entre les balises :`VOTRE CODE ICI` ou \"VOTRE REPONSE ICI\", N'oubliez pas d'indiquer vos noms et prénoms"
   ]
  },
  {
   "cell_type": "code",
   "execution_count": 1,
   "metadata": {},
   "outputs": [
    {
     "ename": "SyntaxError",
     "evalue": "invalid syntax (1630661982.py, line 1)",
     "output_type": "error",
     "traceback": [
      "\u001b[1;36m  Cell \u001b[1;32mIn[1], line 1\u001b[1;36m\u001b[0m\n\u001b[1;33m    NOMS et PRENOMS = \"PUILL Guillaume, MOREAU Marius\"\u001b[0m\n\u001b[1;37m         ^\u001b[0m\n\u001b[1;31mSyntaxError\u001b[0m\u001b[1;31m:\u001b[0m invalid syntax\n"
     ]
    }
   ],
   "source": [
    "NOMS et PRENOMS = \"PUILL Guillaume, MOREAU Marius\"\n"
   ]
  },
  {
   "cell_type": "markdown",
   "metadata": {},
   "source": [
    "---"
   ]
  },
  {
   "cell_type": "markdown",
   "metadata": {
    "deletable": false,
    "editable": false,
    "nbgrader": {
     "cell_type": "markdown",
     "checksum": "d28727ad46c91933f13ddb741c7f9a56",
     "grade": false,
     "grade_id": "cell-0ec0975838c8ad5d",
     "locked": true,
     "schema_version": 3,
     "solution": false,
     "task": false
    }
   },
   "source": [
    "# <p style=\"text-align: center;\"> Projet 1 modélisation  <br> Courbes et sous courbes de Bézier, courbes de Bézier rationnelles\n",
    "</p>"
   ]
  },
  {
   "cell_type": "markdown",
   "metadata": {
    "deletable": false,
    "editable": false,
    "nbgrader": {
     "cell_type": "markdown",
     "checksum": "dd80d335eb347fab097d35ec82904b3e",
     "grade": false,
     "grade_id": "cell-32ed3742a5c58bdd",
     "locked": true,
     "schema_version": 3,
     "solution": false,
     "task": false
    }
   },
   "source": [
    "## <span style=\"color:red\">  **Consignes générales :** </span>\n",
    "1. Lire attentivement le sujet\n",
    "2. les structures de données ainsi que  les entrées et sorties des méthodes demandées (et leur type) sont **imposées**. Il ne faut pas les modifier\n",
    "3. Pour qu'une cellule de code soit prise en compte elle doit être executée.\n",
    "4. Ne **pas ajouter ou effacer de cellule**. Si, néanmoins, vous ajoutez  une cellule pour des tests, il faudra la supprimer avant de déposer votre notebook. Il est cependant préférable de faire vos test sur un autre notebook (ou ide, etc).\n",
    "5. Si vous faites une modification dans une cellule, il faut \"l'executer\" pour qu'elle soit prise en compte.\n",
    "6. Des tests de validation de certaines méthodes sont proposés, il est nécessaire de les passer mais pas suffisant !\n",
    "7. Vous pouvez utiliser, en les adaptant,  les  méthodes obtenues durant les séances de tp.\n",
    "8. Dans la cellule ci-dessous, vous pouvez ajouter les fonctions des tp précédents et dont vous avez besoin (**Bernstein**, etc).\n",
    "9. Enfin lors du dépot sur moodle, **ne pas modifier le nom du fichier.**"
   ]
  },
  {
   "cell_type": "markdown",
   "metadata": {
    "deletable": false,
    "editable": false,
    "nbgrader": {
     "cell_type": "markdown",
     "checksum": "9e40c0c5dad4877169afccd4963afc20",
     "grade": false,
     "grade_id": "cell-53178b303c0a876a",
     "locked": true,
     "schema_version": 3,
     "solution": false,
     "task": false
    }
   },
   "source": [
    "### <ins> Avec les polynômes de Bernstein </ins>\n",
    "\n",
    "Pour $n+1$ points de contrôle $(\\mathbf{P}_0, \\dots, \\mathbf{P}_n)$, on définit la courbe de Bézier   \n",
    "$$\\sum_{i=0}^n B_i^n(t)\\mathbf{P}_i, \\quad t \\in[0,1] $$ \n",
    "où les $B_i^n$ sont les polynômes de Bernstein.  \n",
    "La suite des points $\\mathbf{P}_0, \\dots, \\mathbf{P}_n$ forme le polygone de contrôle.  \n",
    "Les $n+1$ polynômes de Bernstein sont donnés par\n",
    "$$\n",
    "B_i^n(u) = \\begin{pmatrix} n \\\\ i \\end{pmatrix} u^i \\left( 1-u \\right)^{n-i} $$"
   ]
  },
  {
   "cell_type": "markdown",
   "metadata": {
    "deletable": false,
    "editable": false,
    "nbgrader": {
     "cell_type": "markdown",
     "checksum": "2ecc742f23db5457eb4fab7eba29e5eb",
     "grade": false,
     "grade_id": "cell-3ccec883941610de",
     "locked": true,
     "schema_version": 3,
     "solution": false,
     "task": false
    }
   },
   "source": [
    "Ecrire une fonction qui calcule le polynôme de Bernstein $B_i^n(t)$ pour $p$ valeurs de $t$  \n",
    "On pourra obtenir les coefficients binomiaux on utilisant le module **math**, par exemple pour $\\begin{pmatrix} n \\\\ i \\end{pmatrix}$, on écrira \n",
    "```python\n",
    "from math import comb\n",
    "comb(n,i)\n",
    "```"
   ]
  },
  {
   "cell_type": "code",
   "execution_count": 20,
   "metadata": {
    "deletable": false,
    "nbgrader": {
     "cell_type": "code",
     "checksum": "a518dda399d0d6f791c56a92f9414b16",
     "grade": false,
     "grade_id": "cell-c6c6c2b57ab7a4ba",
     "locked": false,
     "schema_version": 3,
     "solution": true,
     "task": false
    }
   },
   "outputs": [],
   "source": [
    "%matplotlib ipympl\n",
    "\n",
    "import numpy as np\n",
    "import matplotlib.pyplot as plt\n",
    "from math import comb,pi\n",
    "\n",
    "def onclick(event):\n",
    "    PtContX.append(event.xdata)\n",
    "    PtContY.append(event.ydata)\n",
    "    if event.button ==3:\n",
    "        ax1.plot(PtContX,PtContY,'ro--')    \n",
    "        plt.disconnect(cid)\n",
    "        \n",
    "\n",
    "    ax1.plot(PtContX,PtContY,'ro--') \n",
    "\n",
    "\n",
    "def Bernstein(n,k,t):\n",
    "    return comb(n, k) * (t ** k) * ((1 - t) ** (n - k))"
   ]
  },
  {
   "cell_type": "markdown",
   "metadata": {
    "deletable": false,
    "editable": false,
    "nbgrader": {
     "cell_type": "markdown",
     "checksum": "5156ede129452fc3ae50f7425eb31d69",
     "grade": false,
     "grade_id": "cell-33e9bf226b3d698a",
     "locked": true,
     "schema_version": 3,
     "solution": false,
     "task": false
    }
   },
   "source": [
    "### Partition de l'unité\n",
    "Tracer sur une même figure les  polynômes  de Bernstein $ B_i^n, \\; 0 \\leq i \\leq n $, puis tracer, sur la même figure leur somme $S= \\sum_{i=0}^n  B_i^n$.  "
   ]
  },
  {
   "cell_type": "code",
   "execution_count": 21,
   "metadata": {
    "deletable": false,
    "nbgrader": {
     "cell_type": "code",
     "checksum": "722644fbbf2ccfade33b89cde4777d55",
     "grade": true,
     "grade_id": "cell-f2a6c78ebc25c724",
     "locked": false,
     "points": 2,
     "schema_version": 3,
     "solution": true,
     "task": false
    }
   },
   "outputs": [
    {
     "data": {
      "application/vnd.jupyter.widget-view+json": {
       "model_id": "db43122cf07248c8bd787ad92a6a6ae8",
       "version_major": 2,
       "version_minor": 0
      },
      "image/png": "[encoded data removed]",
      "text/html": [
       "\n",
       "            <div style=\"display: inline-block;\">\n",
       "                <div class=\"jupyter-widgets widget-label\" style=\"text-align: center;\">\n",
       "                    Figure\n",
       "                </div>\n",
       "                <img src='data:image/png;base64,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' width=800.0/>\n",
       "            </div>\n",
       "        "
      ],
      "text/plain": [
       "Canvas(toolbar=Toolbar(toolitems=[('Home', 'Reset original view', 'home', 'home'), ('Back', 'Back to previous …"
      ]
     },
     "metadata": {},
     "output_type": "display_data"
    }
   ],
   "source": [
    "def partition_unit(n):\n",
    "    \"\"\" On vérifie graphiquement que les polynômes de Bernstein\n",
    "        de degré n forment une partition de l'unité \"\"\"\n",
    "    t = np.linspace(0, 1, 100)\n",
    "    sommeB = np.zeros_like(t)  #pour faire la somme\n",
    "    \n",
    "    plt.figure(figsize=(8, 6))\n",
    "    \n",
    "    #polynome de bernstein\n",
    "    for i in range(n + 1):\n",
    "        bernstein_poly = Bernstein(n, i, t)\n",
    "        sommeB += bernstein_poly\n",
    "        plt.plot(t, bernstein_poly, label=f'$B_{i}^{n}(t)$')\n",
    "    \n",
    "    #afficher le res\n",
    "    plt.plot(t, sommeB, 'k--', linewidth=2, label=r'$S(t) = \\sum_{i=0}^{n} B_i^n(t)$')\n",
    "    \n",
    "    plt.xlabel('t')\n",
    "    plt.ylabel('Valeur')\n",
    "    plt.title(f'Polynômes de Bernstein et leur somme pour n = {n}')\n",
    "    plt.legend()\n",
    "    plt.grid(True)\n",
    "    plt.show()\n",
    "    \n",
    "    \n",
    "partition_unit(3)"
   ]
  },
  {
   "cell_type": "markdown",
   "metadata": {
    "deletable": false,
    "nbgrader": {
     "cell_type": "markdown",
     "checksum": "544184bc5a5c0c230c0080244be2bbd2",
     "grade": true,
     "grade_id": "cell-282c450edbfa84b2",
     "locked": false,
     "points": 2,
     "schema_version": 3,
     "solution": true,
     "task": false
    }
   },
   "source": [
    "YOUR ANSWER HERE"
   ]
  },
  {
   "cell_type": "markdown",
   "metadata": {
    "deletable": false,
    "editable": false,
    "nbgrader": {
     "cell_type": "markdown",
     "checksum": "db3262d33c3e4c696fba8254e003628b",
     "grade": false,
     "grade_id": "cell-71cedd981b481012",
     "locked": true,
     "schema_version": 3,
     "solution": false,
     "task": false
    }
   },
   "source": [
    "Ecrire une fonction qui calcule en $p$ valeurs de $t$ (par défaut 200 valeurs uniformément répartis entre 0 et 1) la courbe de Bézier,  $ {\\cal B}^{n}$.\n",
    "Les points de contrôle sont passés en paramètres sous  la forme d'un array numpy."
   ]
  },
  {
   "cell_type": "code",
   "execution_count": 31,
   "metadata": {
    "deletable": false,
    "nbgrader": {
     "cell_type": "code",
     "checksum": "7f7058f11a59641d4a2b50bd588596d2",
     "grade": true,
     "grade_id": "cell-c20f00ef3360f80e",
     "locked": false,
     "points": 2,
     "schema_version": 3,
     "solution": true,
     "task": false
    }
   },
   "outputs": [],
   "source": [
    "def Bezier(points, num=200):\n",
    "    \"\"\"Courbe de Bézier associée aux points de contrôle\n",
    "       passés en paramètre d'entrée.\n",
    "       \n",
    "       return: tuple avec les coordonnées x et y de la courbe de Bézier.\n",
    "    \"\"\"\n",
    "    n = points.shape[1] - 1  # Le degré du polynôme (nombre de colonnes - 1)\n",
    "    t = np.linspace(0, 1, num)\n",
    "    bezier_x = np.zeros_like(t)\n",
    "    bezier_y = np.zeros_like(t)\n",
    "    \n",
    "    for i in range(n + 1):\n",
    "        bernstein_poly = Bernstein(n, i, t)\n",
    "        bezier_x += bernstein_poly * points[0, i] #coord X\n",
    "        bezier_y += bernstein_poly * points[1, i] #coord y\n",
    "    \n",
    "    return bezier_x, bezier_y"
   ]
  },
  {
   "cell_type": "markdown",
   "metadata": {
    "deletable": false,
    "editable": false,
    "nbgrader": {
     "cell_type": "markdown",
     "checksum": "f27595b9919ee862be7184a612eba1fe",
     "grade": false,
     "grade_id": "cell-5a14dae15def7c86",
     "locked": true,
     "schema_version": 3,
     "solution": false,
     "task": false
    }
   },
   "source": [
    "Enfin, tracer sur la **même fenêtre graphique** d'un coté la courbe de Bézier correspondant à des points de contrôle obtenus à la souris, et d'un autre coté les polynômes de Bernstein associés (leur nombre dépendra donc du nombre de points de contrôle).  \n",
    "On utilisera pour cela `subplot` :\n",
    "```python\n",
    "fig = plt.figure()        # On crée la fenêtre graphique\n",
    "ax = fig.add_subplot(121) # On crée la sous-figure  \n",
    "ax.set_xlim([0, 5])       # On fixe la taille de la sous-figure\n",
    "ax.set_ylim([0, 5])       # pour éviter son reimensionnement après \n",
    "                          # les clics de souris\n",
    "```"
   ]
  },
  {
   "cell_type": "code",
   "execution_count": 34,
   "metadata": {
    "deletable": false,
    "editable": false,
    "nbgrader": {
     "cell_type": "code",
     "checksum": "7d86142ed87b02c663b8a86a6a221f6e",
     "grade": false,
     "grade_id": "cell-0077d6514c91186b",
     "locked": true,
     "schema_version": 3,
     "solution": false,
     "task": false
    }
   },
   "outputs": [
    {
     "data": {
      "application/vnd.jupyter.widget-view+json": {
       "model_id": "9af0f7572db240628bc361689a241d1b",
       "version_major": 2,
       "version_minor": 0
      },
      "image/png": "[encoded data removed]",
      "text/html": [
       "\n",
       "            <div style=\"display: inline-block;\">\n",
       "                <div class=\"jupyter-widgets widget-label\" style=\"text-align: center;\">\n",
       "                    Figure\n",
       "                </div>\n",
       "                <img src='data:image/png;base64,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' width=640.0/>\n",
       "            </div>\n",
       "        "
      ],
      "text/plain": [
       "Canvas(toolbar=Toolbar(toolitems=[('Home', 'Reset original view', 'home', 'home'), ('Back', 'Back to previous …"
      ]
     },
     "metadata": {},
     "output_type": "display_data"
    }
   ],
   "source": [
    "fig = plt.figure()\n",
    "\n",
    "ax1 = fig.add_subplot(121)\n",
    "ax2 = fig.add_subplot(122)\n",
    "fig.subplots_adjust(wspace=0.4)\n",
    "ax1.set_xlim([0, 5])\n",
    "ax1.set_ylim([0, 5])\n",
    "PtContX=[]\n",
    "PtContY=[]\n",
    "cid = fig.canvas.mpl_connect('button_press_event', onclick)\n",
    "\"\"\" Attention on ne fait que l'acquisition des points dans cette cellule\n",
    "    les courbes s'obtiennent en exécutant la cellule suivante.\n",
    "    Ce n'est pas très intuitif, d'où la remarque ci-dessous (modification de\n",
    "    la fonction onclick).\n",
    "    Laissé à l'appréciation de l'étudiant.\n",
    "\"\"\"     \n",
    "\n",
    "plt.show() #afficher pour récupérer les points"
   ]
  },
  {
   "cell_type": "code",
   "execution_count": 35,
   "metadata": {
    "deletable": false,
    "nbgrader": {
     "cell_type": "code",
     "checksum": "a1ce8d668c20d39ea3ed9ef298ba3f1f",
     "grade": true,
     "grade_id": "cell-533ea34dcf7024b0",
     "locked": false,
     "points": 2,
     "schema_version": 3,
     "solution": true,
     "task": false
    }
   },
   "outputs": [],
   "source": [
    "\"\"\" Remarque : on peut également modifier la fonction onclick et ajouter les commandes\n",
    "ci-dessous lors du clic droit (après la déconnexion à la figure : plt.disconnect).\n",
    "On obtiendra alors le tracé des courbes juste après le dernier clic. \n",
    "\"\"\"\n",
    "\n",
    "#calcul et affiche la courbes suite au inputs des points avec onclick\n",
    "N=len(PtContX)\n",
    "c=Bezier(np.array([PtContX,PtContY])) \n",
    "\n",
    "# Tracé de la courbe de Bézier\n",
    "ax1.plot(c[0], c[1], 'b-', linewidth=2, label='Courbe de Bézier')\n",
    "ax1.plot(PtContX, PtContY, 'ro--', label='Points de contrôle')\n",
    "ax1.legend()\n",
    "\n",
    "# Tracé des polynômes de Bernstein associés\n",
    "t = np.linspace(0, 1, 200)\n",
    "sum_bernstein = np.zeros_like(t)\n",
    "for i in range(N + 1):\n",
    "    bernstein_poly = Bernstein(N, i, t)\n",
    "    ax2.plot(t, bernstein_poly, label=f'$B_{i}^{N}(t)$')\n",
    "    sum_bernstein += bernstein_poly\n",
    "\n",
    "ax2.plot(t, sum_bernstein, 'k--', linewidth=2, label=r'$\\sum B_i^n(t) = 1$')\n",
    "ax2.legend()\n",
    "ax2.grid(True)\n"
   ]
  },
  {
   "cell_type": "markdown",
   "metadata": {
    "deletable": false,
    "editable": false,
    "nbgrader": {
     "cell_type": "markdown",
     "checksum": "2a4b63f9a062988d07bd4266062f853a",
     "grade": false,
     "grade_id": "cell-3910a435bbf0f4d5",
     "locked": true,
     "schema_version": 3,
     "solution": false,
     "task": false
    }
   },
   "source": [
    "### Sous-courbes de Bézier\n",
    "\n",
    "On souhaite découper une courbe de Bézier, ${\\cal B}^{n}$, de degré $n$ en deux morceaux ${\\cal C}^{n}$ et ${\\cal D}^{n}$. Chaque morceau sera une courbe de Bézier de même degré $n$.  \n",
    "La courbe de Bézier ${\\cal B}^{n}$ est déterminée par les $n+1$ points de contrôle $P_0, P_1,\\ldots,P_n$.  \n",
    "Soit $B(t_0)$ le point de la courbe de Bézier  ${\\cal B}^{n}$ où l'on souhaite ``découper''. On va démontrer **numériquement** que les $n+1$ points de contrôle de chaque morceau sont donnés par l'algorithme de De Casteljau. "
   ]
  },
  {
   "cell_type": "markdown",
   "metadata": {
    "deletable": false,
    "editable": false,
    "nbgrader": {
     "cell_type": "markdown",
     "checksum": "d9ed582e74749273b950359e2c76fb0e",
     "grade": false,
     "grade_id": "cell-460f12b34804db68",
     "locked": true,
     "schema_version": 3,
     "solution": false,
     "task": false
    }
   },
   "source": [
    "<div>\n",
    "<img src=\"Principe_algorithme_de_casteljau.png-1.png\" width=\"420\"/>\n",
    "</div>"
   ]
  },
  {
   "cell_type": "markdown",
   "metadata": {
    "deletable": false,
    "editable": false,
    "nbgrader": {
     "cell_type": "markdown",
     "checksum": "346564e31e35c099b73c32e0442bcc04",
     "grade": false,
     "grade_id": "cell-286f22a5f5fee5f8",
     "locked": true,
     "schema_version": 3,
     "solution": false,
     "task": false
    }
   },
   "source": [
    "Ecrire une fonction  **DeCasteljau(P,t0)**, prenant en paramètres d'entrées $n+1$ points et un scalaire $t_0 \\in [0,1]$ et qui renvoie le point $P_{t_0}$  de la courbe de Bézier de paramètre $t_0$"
   ]
  },
  {
   "cell_type": "code",
   "execution_count": 36,
   "metadata": {
    "deletable": false,
    "nbgrader": {
     "cell_type": "code",
     "checksum": "6be801fd4869fd6c2700bd6e1d5b8ddd",
     "grade": true,
     "grade_id": "cell-4be59392e72e5747",
     "locked": false,
     "points": 1,
     "schema_version": 3,
     "solution": true,
     "task": false
    }
   },
   "outputs": [],
   "source": [
    "def DeCasteljau(P,t0):\n",
    "    \"\"\"P est un array (2,n+1) formé des coordonnées des\n",
    "        points de contrôle. t0 est le paramètre (scalaire).\n",
    "        La fonction renvoie le point P0 de la courbe de Bézier correspondant\n",
    "        au paramètre t0 sous la forme d'un array à deux lignes et une colonne.\n",
    "    \"\"\"\n",
    "    n = P.shape[1] - 1  # Nombre de points de contrôle - 1\n",
    "    points = P.copy()  # Copie par bonne pratique\n",
    "\n",
    "    for k in range(1, n + 1):\n",
    "        for i in range(n - k + 1):\n",
    "            points[:, i] = (1 - t0) * points[:, i] + t0 * points[:, i + 1] # met à jour les coords des points interpolés.\n",
    "\n",
    "    P0 = points[:, 0].reshape(2, 1)\n",
    "    return P0"
   ]
  },
  {
   "cell_type": "code",
   "execution_count": 52,
   "metadata": {
    "deletable": false,
    "editable": false,
    "nbgrader": {
     "cell_type": "code",
     "checksum": "1d4b856fa7ce89db46cc45b9cd2dc276",
     "grade": true,
     "grade_id": "cell-83c598293f97ba71",
     "locked": true,
     "points": 2,
     "schema_version": 3,
     "solution": false,
     "task": false
    }
   },
   "outputs": [],
   "source": [
    "\"\"\"Vérifiez vos résultats sur les tests suivants\"\"\"\n",
    "Px=[1.1129942247944489, 0.8468651925363844, 3.2662200312460614, 4.209768418342835]\n",
    "Py=[0.3947177903476734, 1.382271902901786, 1.8828130284429112, 0.6517524223823054]\n",
    "\n",
    "assert all(np.round(DeCasteljau(np.array([Px,Py]),0.3),4) == np.array([[1.4862],[1.1184]]))\n"
   ]
  },
  {
   "cell_type": "markdown",
   "metadata": {
    "deletable": false,
    "editable": false,
    "nbgrader": {
     "cell_type": "markdown",
     "checksum": "4a9dac7c83af63ecae684b22af27887e",
     "grade": false,
     "grade_id": "cell-2c78c1dd2166a3bd",
     "locked": true,
     "schema_version": 3,
     "solution": false,
     "task": false
    }
   },
   "source": [
    "Modifier la fonction précédente pour qu'elle renvoie le point $P_{t_0}$  de la courbe de Bézier de paramètre $t_0$ ainsi que deux tableaux numpy, $P_1, P_2$ de $n+1$ points constitués des points intermédiaires qui ont servi au calcul du  point de paramètre $t_0$ par l'algorithme de De Casteljau.  \n",
    "Le premier tableau, $P_1$, est formé du premier point de contrôle et des **premiers** points de chaque étape de l'algorithme de De Casteljau. Le deuxième, $P_2$ est formé du dernier point de contrôle et des **derniers** points de chaque étape de l'algorithme de De Casteljau mais ordonné dans le sens inverse (voir exemple ci-dessous).  \n",
    "Reprenons l'exemple de la figure ci-dessus, on obtiendra ainsi\n",
    "$$ P_1=\\{P_0^0, P_0^1, P_0^2,P_0^3  \\} \\; \\text{et} \\; P_2=\\{P_0^3,P_1^2,P_2^1,P_3^0 \\}  $$"
   ]
  },
  {
   "cell_type": "code",
   "execution_count": 106,
   "metadata": {
    "deletable": false,
    "nbgrader": {
     "cell_type": "code",
     "checksum": "a3969b1b99c99e832ea16b87f0bbd925",
     "grade": true,
     "grade_id": "cell-eb9a04ba748b7c57",
     "locked": false,
     "points": 2,
     "schema_version": 3,
     "solution": true,
     "task": false
    }
   },
   "outputs": [],
   "source": [
    "def DeCasteljau2(P,t0):\n",
    "    \"\"\"P est un array (2,n+1)  formé des coordonnées des\n",
    "        points de contrôle. t0 est le paramètre.\n",
    "        La fonction renvoie le point P0 de la courbe de Bézier correspondant\n",
    "        au paramètre t0 ainsi que les deux array P1 et P2 (coordonnées de points) décrits\n",
    "        précédemment, chacun de ces tableaux est de dimension (2,n+1).\n",
    "        On gérera les exceptions avec \"raise ValueError()\" (si le paramètre t0 n'appartient pas à ]0;1[)\n",
    "    \"\"\"\n",
    "    # P0 est le point de césure\n",
    "    # P1 est la partie 'gauche' (avant la ceisure) de la courbe\n",
    "    # P2 est la partie 'droite (après la ceisure) de la courbe\n",
    "    \n",
    "    n = P.shape[1] - 1\n",
    "    P1,P2 = np.zeros((2, n + 1)), np.zeros((2, n + 1))  # Initialisation des points P1 et P2\n",
    "    \n",
    "    P_temp = P.copy()           # Tableau temporaire pour les calculs\n",
    "\n",
    "    P1[:, 0] = P[:, 0]         # Premier point de P1\n",
    "    P2[:, 0] = P[:, n]         # Dernier point de P2\n",
    "    for k in range(0, n + 1):\n",
    "        P1[:, k] = P_temp[:, 0]  # Stocke le premier point de chaque étape\n",
    "        P2[:, k] = P_temp[:, n - k]  # Stocke le dernier point de chaque étape\n",
    "        for i in range(n - k):\n",
    "            P_temp[:, i] = (1 - t0) * P_temp[:, i] + t0 * P_temp[:, i + 1]\n",
    "    \n",
    "    P0 = P_temp[:, 0].reshape(2, 1)\n",
    "    P2 = np.flip(P2[:, :k + 1], axis=1)  # Inverse l'ordre des points dans P2\n",
    "    return P0, P1, P2"
   ]
  },
  {
   "cell_type": "code",
   "execution_count": 107,
   "metadata": {
    "deletable": false,
    "editable": false,
    "nbgrader": {
     "cell_type": "code",
     "checksum": "c74e7e0f3d5f1921b19f3a8b47f7c489",
     "grade": true,
     "grade_id": "cell-f416c6051bb0da39",
     "locked": true,
     "points": 2,
     "schema_version": 3,
     "solution": false,
     "task": false
    }
   },
   "outputs": [
    {
     "data": {
      "text/plain": [
       "np.True_"
      ]
     },
     "execution_count": 107,
     "metadata": {},
     "output_type": "execute_result"
    }
   ],
   "source": [
    "\"\"\"Vérifiez vos résultats sur les tests suivants\"\"\"\n",
    "\n",
    "#print(np.round(DeCasteljau2(np.array([Px,Py]),0.3)[1],4)) # j'ai l'impression que je duplique la première donnée, mais j'ai pas capté comment\n",
    "\n",
    "np.all(np.round(DeCasteljau2(np.array([Px,Py]),0.3)[0],4) == np.array([[1.4862],[1.1184]]))\n",
    "np.all(np.round(DeCasteljau2(np.array([Px,Py]),0.3)[1],4) == np.array([[1.1130, 1.0332, 1.1950, 1.4862],[0.3947,0.691 , 0.9434, 1.1184]]))"
   ]
  },
  {
   "cell_type": "markdown",
   "metadata": {
    "deletable": false,
    "editable": false,
    "nbgrader": {
     "cell_type": "markdown",
     "checksum": "bdf98c83130f183f9e57dd2d50bfcecf",
     "grade": false,
     "grade_id": "cell-fa9666dc6cffed5e",
     "locked": true,
     "schema_version": 3,
     "solution": false,
     "task": false
    }
   },
   "source": [
    "Dans cette dernière partie, on souhaite faire l'acquisition des points de contrôle à la souris, les représenter sur la figure (ainsi que le polygône de contrôle correspondant) puis tracer sur la même figure la courbes de Bézier associée à ces points ainsi  que les deux sous courbes de Bézier associées (l'utisateur choisira le paramètre de coupure t0).  \n",
    "Vous devriez, au final, avoir une figure semblable à celle ci-dessous."
   ]
  },
  {
   "cell_type": "markdown",
   "metadata": {
    "deletable": false,
    "editable": false,
    "nbgrader": {
     "cell_type": "markdown",
     "checksum": "c8b96a48e8a3e31f183df5801db3ecc5",
     "grade": false,
     "grade_id": "cell-2c143ca12b410b01",
     "locked": true,
     "schema_version": 3,
     "solution": false,
     "task": false
    }
   },
   "source": [
    "<div>\n",
    "<img src=\"SousCourbes.png\" width=\"520\"/>\n",
    "</div>"
   ]
  },
  {
   "cell_type": "code",
   "execution_count": null,
   "metadata": {
    "deletable": false,
    "nbgrader": {
     "cell_type": "code",
     "checksum": "06cbe077855706e5cdfc7e64b4209d62",
     "grade": false,
     "grade_id": "cell-563b4b5ed17527d5",
     "locked": false,
     "schema_version": 3,
     "solution": true,
     "task": false
    }
   },
   "outputs": [],
   "source": [
    "# Acquisition des points de contrôle\n",
    "# Votre code ici"
   ]
  },
  {
   "cell_type": "code",
   "execution_count": null,
   "metadata": {
    "deletable": false,
    "nbgrader": {
     "cell_type": "code",
     "checksum": "123e37096b90005ed16307e11f8eda74",
     "grade": true,
     "grade_id": "cell-fafee4e5971cf70a",
     "locked": false,
     "points": 2,
     "schema_version": 3,
     "solution": true,
     "task": false
    }
   },
   "outputs": [],
   "source": [
    "def SousCourbes(PtContX,PtContY,t0):\n",
    "    \"\"\" Les coordonnées des points de contrôle sont donnés par les listes PtContX et PtContY (ici se sont des\n",
    "    listes (comme dans les tp précédents). Le paramètre du point de découpe est t0.\n",
    "    Toutes les directives de tracé se font dans cette fonction, elle ne retourne donc rien. On l'appelle pour effectuer \n",
    "    les tracés.\n",
    "    \"\"\"\n",
    "    # Votre code ici\n",
    "SousCourbes(PtContX,PtContY,0.35)   "
   ]
  },
  {
   "cell_type": "markdown",
   "metadata": {
    "deletable": false,
    "editable": false,
    "nbgrader": {
     "cell_type": "markdown",
     "checksum": "54b82aabdb698bd454d7507184c7301f",
     "grade": false,
     "grade_id": "cell-0cb9fc53fdddf86b",
     "locked": true,
     "schema_version": 3,
     "solution": false,
     "task": false
    }
   },
   "source": [
    "### Bézier rationnelles\n",
    "  \n",
    "\n",
    "Dans cette partie on s'interesse aux courbes de Bézier rationnelles, $ {\\cal B}^{n}$.  \n",
    "L'idée est d'ajouter des poids, $\\omega_i$, aux points de contrôle $P_i$.  \n",
    "\n",
    "Pour $n+1$ points de contrôle $(\\mathbf{P}_0, \\dots, \\mathbf{P}_n)$, et $n+1$ poids $\\omega_i, i\\in\\{0,\\ldots,n\\}$ **non tous nuls**, on définit la courbe de Bézier rationnelle  \n",
    "$$B_r(t)=\\displaystyle \\frac{\\displaystyle\\sum_{i=0}^n B_i^n(t) \\omega_i \\mathbf{P}_i }{\\displaystyle\\sum_{i=0}^n B_i^n(t) \\omega_i } , \\quad t \\in[0,1] $$  \n",
    "où les $B_i^n$ sont les polynômes de Bernstein et la suite des points $\\mathbf{P}_0, \\dots, \\mathbf{P}_n$ forme le polygone de contrôle."
   ]
  },
  {
   "cell_type": "markdown",
   "metadata": {
    "deletable": false,
    "editable": false,
    "nbgrader": {
     "cell_type": "markdown",
     "checksum": "5a76532e299dc13feb2982b84427bbc1",
     "grade": false,
     "grade_id": "cell-e88d70d8e03ffba8",
     "locked": true,
     "schema_version": 3,
     "solution": false,
     "task": false
    }
   },
   "source": [
    "Que se passe t'il si tous les poids sont égaux, quelle courbe obtient-on ?  \n",
    "Justifiez brièvement (mais clairement) votre réponse dans la cellule ci-dessus."
   ]
  },
  {
   "cell_type": "markdown",
   "metadata": {
    "deletable": false,
    "nbgrader": {
     "cell_type": "markdown",
     "checksum": "bfb58669f93a79e237b2826cd7e4094f",
     "grade": true,
     "grade_id": "cell-0b47816484bd146e",
     "locked": false,
     "points": 2,
     "schema_version": 3,
     "solution": true,
     "task": false
    }
   },
   "source": [
    "YOUR ANSWER HERE"
   ]
  },
  {
   "cell_type": "markdown",
   "metadata": {
    "deletable": false,
    "editable": false,
    "nbgrader": {
     "cell_type": "markdown",
     "checksum": "0ef7a580bfe43233beeb04edbcbec82c",
     "grade": false,
     "grade_id": "cell-416630b5f5ece1a0",
     "locked": true,
     "schema_version": 3,
     "solution": false,
     "task": false
    }
   },
   "source": [
    "Ecrire une fonction qui prend en paramètre d'entrée les points de contrôle (sous forme d'un **tableau numpy** à 2 lignes et n+1 colonnes, une **liste** de n+1 poids ainsi qu'un paramètre $t \\in [0,1]$ et qui renvoie le point de la courbe de Bézier rationnelle correspondant à $t$.   "
   ]
  },
  {
   "cell_type": "code",
   "execution_count": null,
   "metadata": {
    "deletable": false,
    "nbgrader": {
     "cell_type": "code",
     "checksum": "d704fd8dfb3844833a899c567ecaf458",
     "grade": true,
     "grade_id": "cell-3fc2a6f05c23d523",
     "locked": false,
     "points": 2,
     "schema_version": 3,
     "solution": true,
     "task": false
    }
   },
   "outputs": [],
   "source": [
    "def BezierRat(Pc,L,t):\n",
    "    \"\"\"Courbe de Bézier rationnelle associée aux points de contrôle Pc\n",
    "       passés en paramètre d'entrée, une liste L de poids et un\n",
    "       paramètre t.\n",
    "       La fonction renvoie le point Pt de la courbe correpondant au paramètre t\n",
    "       On gérera une exception si tous les poids sont nuls (raise ValueError())\n",
    "    \"\"\"\n",
    "    # Votre code ici\n",
    "    return Pt"
   ]
  },
  {
   "cell_type": "code",
   "execution_count": null,
   "metadata": {
    "deletable": false,
    "editable": false,
    "nbgrader": {
     "cell_type": "code",
     "checksum": "316c01e6ce853ad600e4e9be737f2779",
     "grade": true,
     "grade_id": "cell-29b0063a69709eac",
     "locked": true,
     "points": 2,
     "schema_version": 3,
     "solution": false,
     "task": false
    }
   },
   "outputs": [],
   "source": [
    "\"\"\"Vérifiez vos résultats sur les tests suivants\"\"\"\n",
    "np.all(np.round(BezierRat(np.array([Px,Py]),[4,4,4,4],0.5),4)==np.array([[2.2078],[1.3552]]))\n"
   ]
  },
  {
   "cell_type": "markdown",
   "metadata": {
    "deletable": false,
    "editable": false,
    "nbgrader": {
     "cell_type": "markdown",
     "checksum": "8ecf8fe69a97e9c4f527fb8f9b839f78",
     "grade": false,
     "grade_id": "cell-299d72c86266623e",
     "locked": true,
     "schema_version": 3,
     "solution": false,
     "task": false
    }
   },
   "source": [
    "Modifier la fonction précédente pour pouvoir passer un vecteur de paramètres (t = np.linspace(0,1,100) par exemple). "
   ]
  },
  {
   "cell_type": "code",
   "execution_count": null,
   "metadata": {
    "deletable": false,
    "nbgrader": {
     "cell_type": "code",
     "checksum": "1358d1a0393a47b6e67e46861bfc4b35",
     "grade": true,
     "grade_id": "cell-41f36fbb48321263",
     "locked": false,
     "points": 2,
     "schema_version": 3,
     "solution": true,
     "task": false
    }
   },
   "outputs": [],
   "source": [
    "def BezierRatVect(Pc,L,t):\n",
    "    \"\"\"Courbe de Bézier rationnelle associée aux points de contrôle Pc\n",
    "       passés en paramètre d'entrée, une liste L de poids et un vecteur\n",
    "       de paramètre t.\n",
    "       La fonction renvoie les points Pts de la courbe correpondant aux paramètres t\n",
    "       On gérera une exception si tous les poids sont nuls (raise ValueError())\n",
    "    \"\"\"\n",
    "    # Votre code ici\n",
    "    return Pts"
   ]
  },
  {
   "cell_type": "code",
   "execution_count": null,
   "metadata": {
    "deletable": false,
    "editable": false,
    "nbgrader": {
     "cell_type": "code",
     "checksum": "ef4b91a359b3a13c29cd54d65df7957b",
     "grade": true,
     "grade_id": "cell-a0c8923a16f8506f",
     "locked": true,
     "points": 2,
     "schema_version": 3,
     "solution": false,
     "task": false
    }
   },
   "outputs": [],
   "source": [
    "\"\"\"Vérifiez vos résultats sur les tests suivants\"\"\"\n",
    "np.all(np.round(BezierRatVect(np.array([Px,Py]),[4,4,4,4],np.linspace(0,1,6)),4)==np.array([[1.113 , 1.2423, 1.8163, 2.6354, 3.4998, 4.2098],\n",
    "[0.3947, 0.9189, 1.2664, 1.3775, 1.1926, 0.6518]]))\n"
   ]
  },
  {
   "cell_type": "markdown",
   "metadata": {
    "deletable": false,
    "editable": false,
    "nbgrader": {
     "cell_type": "markdown",
     "checksum": "b56c82a4c4bf1c8dd3fa6469ec60a44e",
     "grade": false,
     "grade_id": "cell-7ce6ff0c0fee79ed",
     "locked": true,
     "schema_version": 3,
     "solution": false,
     "task": false
    }
   },
   "source": [
    "Ecrire une fonction qui prend comme paramètre d'entrée les points de contrôle (sous forme d'un tableau numpy) ainsi qu'une liste, L,  de poids et qui trace sur une même figure les points de contrôle, le polygone de contrôle et la courbe de Bézier rationnelle (cubique) associée à ces points et ces poids. "
   ]
  },
  {
   "cell_type": "code",
   "execution_count": null,
   "metadata": {
    "deletable": false,
    "nbgrader": {
     "cell_type": "code",
     "checksum": "56d041950a5e70ee2a77e384e98744fe",
     "grade": true,
     "grade_id": "cell-876e6e0dbde7c859",
     "locked": false,
     "points": 2,
     "schema_version": 3,
     "solution": true,
     "task": false
    }
   },
   "outputs": [],
   "source": [
    "def TraceBezRat(Pc,L):\n",
    "    \"\"\" Pc est un array numpy de dimension(2,n+1) (abscisses et ordonnées des points de contrôle) et L la liste des poids.\n",
    "        La fonction ne renvoie rien.\n",
    "        \"\"\"\n",
    "    t=np.linspace(0,1,100)\n",
    "    # Votre code ici"
   ]
  },
  {
   "cell_type": "markdown",
   "metadata": {
    "deletable": false,
    "editable": false,
    "nbgrader": {
     "cell_type": "markdown",
     "checksum": "af3131726a891f4b762949e7cc29b579",
     "grade": false,
     "grade_id": "cell-f3843b9d58354a13",
     "locked": true,
     "schema_version": 3,
     "solution": false,
     "task": false
    }
   },
   "source": [
    "En appelant TraceBezRat(np.array([Px,Py]),[0.5,4,3,0.7]) Vous devriez obtenir la figure ci-dessous"
   ]
  },
  {
   "cell_type": "markdown",
   "metadata": {
    "deletable": false,
    "editable": false,
    "nbgrader": {
     "cell_type": "markdown",
     "checksum": "0bb4cd744b028cd3c475efc1efccb7d5",
     "grade": false,
     "grade_id": "cell-5bdb2181616f309f",
     "locked": true,
     "schema_version": 3,
     "solution": false,
     "task": false
    }
   },
   "source": [
    "<div>\n",
    "<img src=\"BezierRat.png\" width=\"520\"/>\n",
    "</div>"
   ]
  },
  {
   "cell_type": "markdown",
   "metadata": {
    "deletable": false,
    "editable": false,
    "nbgrader": {
     "cell_type": "markdown",
     "checksum": "cfd327adc2a81851f445442198c65bb0",
     "grade": false,
     "grade_id": "cell-f5114b236095a577",
     "locked": true,
     "schema_version": 3,
     "solution": false,
     "task": false
    }
   },
   "source": [
    "En déduire, en faisant quelques tests, l'effet des poids sur la courbe. Expliquer bièvement dans la cellule ci-dessous."
   ]
  },
  {
   "cell_type": "markdown",
   "metadata": {
    "deletable": false,
    "nbgrader": {
     "cell_type": "markdown",
     "checksum": "19969745d0a00b0347efdfe511a86920",
     "grade": true,
     "grade_id": "cell-b98c2a8c433918bb",
     "locked": false,
     "points": 1,
     "schema_version": 3,
     "solution": true,
     "task": false
    }
   },
   "source": [
    "Votre reponse ici"
   ]
  }
 ],
 "metadata": {
  "kernelspec": {
   "display_name": "Python 3",
   "language": "python",
   "name": "python3"
  },
  "language_info": {
   "codemirror_mode": {
    "name": "ipython",
    "version": 3
   },
   "file_extension": ".py",
   "mimetype": "text/x-python",
   "name": "python",
   "nbconvert_exporter": "python",
   "pygments_lexer": "ipython3",
   "version": "3.11.9"
  }
 },
 "nbformat": 4,
 "nbformat_minor": 4
}
